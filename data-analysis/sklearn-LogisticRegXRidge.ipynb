{
 "cells": [
  {
   "cell_type": "code",
   "execution_count": 30,
   "metadata": {},
   "outputs": [],
   "source": [
    "import os\n",
    "import pandas as pd\n",
    "import numpy as np\n",
    "\n",
    "from sklearn.linear_model import RidgeClassifier, Ridge, LogisticRegression\n",
    "\n",
    "from mlcomp.config import DATA_PATH\n",
    "from mlcomp.data import load_csv_data\n",
    "from mlcomp.helpers import split_data\n",
    "from mlcomp.performance import correctness\n",
    "\n",
    "TRAIN_PATH = os.path.join(DATA_PATH, 'train.csv')\n",
    "RATIO_SPLIT = 0.3\n",
    "SEED_SPLIT = 872\n",
    "CUTOFF_RIDGE = 0\n",
    "CUTOFF_RIDGECLASS = 0.5\n",
    "CUTOFF_LOGREG = 0.5"
   ]
  },
  {
   "cell_type": "code",
   "execution_count": 6,
   "metadata": {},
   "outputs": [],
   "source": [
    "y_continous, X, ids = load_csv_data(TRAIN_PATH)\n",
    "y_categorical = y_continous==1"
   ]
  },
  {
   "cell_type": "code",
   "execution_count": 20,
   "metadata": {},
   "outputs": [],
   "source": [
    "X_continous_train, X_continous_test, y_continous_train, y_continous_test = split_data(X, y_continous, RATIO_SPLIT, seed=SEED_SPLIT)\n",
    "X_categorical_train, X_categorical_test, y_categorical_train, y_categorical_test = split_data(X, y_categorical, RATIO_SPLIT, seed=SEED_SPLIT)"
   ]
  },
  {
   "cell_type": "markdown",
   "metadata": {},
   "source": [
    "### Ridge - same that we implemented\n",
    "`alpha = 1`"
   ]
  },
  {
   "cell_type": "code",
   "execution_count": 45,
   "metadata": {},
   "outputs": [
    {
     "name": "stdout",
     "output_type": "stream",
     "text": [
      "Total correct: 130169 \n",
      "Total incorrect: 44831 \n",
      "Correct percentage: 74.38228571428571 %\n"
     ]
    }
   ],
   "source": [
    "model_ridge = Ridge()\n",
    "model_ridge.fit(X_continous_train, y_continous_train)\n",
    "prediction_test = model_ridge.predict(X_continous_test)\n",
    "\n",
    "prediction_test[np.where(prediction_test <= CUTOFF_RIDGE)] = -1\n",
    "prediction_test[np.where(prediction_test > CUTOFF_RIDGE)] = 1\n",
    "\n",
    "correctness(y_continous_test, prediction_test)"
   ]
  },
  {
   "cell_type": "markdown",
   "metadata": {},
   "source": [
    "### Logistic Regression"
   ]
  },
  {
   "cell_type": "code",
   "execution_count": 51,
   "metadata": {},
   "outputs": [
    {
     "name": "stdout",
     "output_type": "stream",
     "text": [
      "Total correct: 131138 \n",
      "Total incorrect: 43862 \n",
      "Correct percentage: 74.936 %\n"
     ]
    }
   ],
   "source": [
    "model_logistic = LogisticRegression()\n",
    "model_logistic.fit(X_categorical_train, y_categorical_train)\n",
    "prediction_test = model_logistic.predict(X_categorical_test)\n",
    "\n",
    "correctness(y_categorical_test, prediction_test)"
   ]
  }
 ],
 "metadata": {
  "kernelspec": {
   "display_name": "Python 3",
   "language": "python",
   "name": "python3"
  },
  "language_info": {
   "codemirror_mode": {
    "name": "ipython",
    "version": 3
   },
   "file_extension": ".py",
   "mimetype": "text/x-python",
   "name": "python",
   "nbconvert_exporter": "python",
   "pygments_lexer": "ipython3",
   "version": "3.6.2"
  }
 },
 "nbformat": 4,
 "nbformat_minor": 2
}
