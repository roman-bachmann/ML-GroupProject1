{
 "cells": [
  {
   "cell_type": "code",
   "execution_count": 1,
   "metadata": {
    "collapsed": true
   },
   "outputs": [],
   "source": [
    "import os\n",
    "import pandas as pd\n",
    "import numpy as np\n",
    "\n",
    "from mlcomp.config import DATA_PATH\n",
    "from mlcomp.data import load_csv_data\n",
    "from mlcomp.helpers import split_data\n",
    "from mlcomp.performance import correctness\n",
    "from mlcomp.models import ridge_regression\n",
    "\n",
    "import matplotlib.pyplot as plt\n",
    "%matplotlib inline  \n",
    "\n",
    "TRAIN_PATH = os.path.join(DATA_PATH, 'train.csv')\n",
    "RATIO_SPLIT = 0.3\n",
    "SEED_SPLIT = 872\n",
    "CURRENT_CUTOFF = 0"
   ]
  },
  {
   "cell_type": "code",
   "execution_count": 54,
   "metadata": {
    "collapsed": true
   },
   "outputs": [],
   "source": [
    "# split function `predict_labels` in `predict_values` and \n",
    "# another `predict` that is able to deal with a cutoff\n",
    "\n",
    "def predict_values(weights, X):\n",
    "    return np.dot(X, weights)\n",
    "\n",
    "def predict(y_values, cutoff):\n",
    "    labels = np.empty(len(y_values))\n",
    "    labels[y_values <= cutoff] = -1\n",
    "    labels[y_values > cutoff] = 1\n",
    "    \n",
    "    return labels"
   ]
  },
  {
   "cell_type": "code",
   "execution_count": 14,
   "metadata": {
    "collapsed": true
   },
   "outputs": [],
   "source": [
    "y, X, ids = load_csv_data(TRAIN_PATH)\n",
    "X_train, X_test, y_train, y_test = split_data(X, y, RATIO_SPLIT, seed=SEED_SPLIT)"
   ]
  },
  {
   "cell_type": "code",
   "execution_count": 28,
   "metadata": {},
   "outputs": [],
   "source": [
    "weights = ridge_regression(y_train, X_train, lambda_=1)[0]\n",
    "y_hat_train = predict_values(weights, X_train)\n",
    "y_hat_test = predict_values(weights, X_test)"
   ]
  },
  {
   "cell_type": "markdown",
   "metadata": {},
   "source": [
    "## Analyse distribution of predictions in train dataset"
   ]
  },
  {
   "cell_type": "code",
   "execution_count": 27,
   "metadata": {},
   "outputs": [
    {
     "data": {
      "image/png": "[encoded data removed]",
      "text/plain": [
       "<matplotlib.figure.Figure at 0x1182746d8>"
      ]
     },
     "metadata": {},
     "output_type": "display_data"
    }
   ],
   "source": [
    "f, (ax1, ax2) = plt.subplots(1, 2)\n",
    "f.set_size_inches(15, 5)\n",
    "\n",
    "ax1.hist(y_hat_train);\n",
    "ax1.set_title('Histogram of predictions in train');\n",
    "\n",
    "ax2.boxplot([y_hat_train[y_train == -1], y_hat_train[y_train == 1]], \n",
    "            labels=['-1', '1'], \n",
    "            showfliers=False);\n",
    "ax2.set_title('Boxplot of true value by prediction in train');"
   ]
  },
  {
   "cell_type": "markdown",
   "metadata": {},
   "source": [
    "This might indicate that 0 as cutoff might not be the best option"
   ]
  },
  {
   "cell_type": "markdown",
   "metadata": {},
   "source": [
    "## Finding best cutoff in train set"
   ]
  },
  {
   "cell_type": "code",
   "execution_count": 70,
   "metadata": {},
   "outputs": [],
   "source": [
    "def correct_by_cutoff(y_true, y_pred, search_space):\n",
    "    labels = list(map(lambda c: predict(y_pred, c), search_space))\n",
    "    corrects = list(map(lambda l: correctness(y_true, l), labels))\n",
    "    return corrects"
   ]
  },
  {
   "cell_type": "code",
   "execution_count": 72,
   "metadata": {},
   "outputs": [
    {
     "data": {
      "image/png": "[encoded data removed]",
      "text/plain": [
       "<matplotlib.figure.Figure at 0x1346009b0>"
      ]
     },
     "metadata": {},
     "output_type": "display_data"
    }
   ],
   "source": [
    "cutoff_search_space = np.linspace(-4, 4, retstep=0.01)[0]\n",
    "correctness_by_cutoff = correct_by_cutoff(y_train, y_hat_train, cutoff_search_space)\n",
    "plt.plot(cutoff_search_space, correctness_by_cutoff);"
   ]
  },
  {
   "cell_type": "code",
   "execution_count": 76,
   "metadata": {},
   "outputs": [
    {
     "name": "stdout",
     "output_type": "stream",
     "text": [
      "Best cutoff in train: -0.08163265306122458\n"
     ]
    }
   ],
   "source": [
    "best_cutoff = cutoff_search_space[correctness_by_cutoff.index(max(correctness_by_cutoff))]\n",
    "print('Best cutoff in train: {}'.format(best_cutoff))"
   ]
  },
  {
   "cell_type": "code",
   "execution_count": 79,
   "metadata": {},
   "outputs": [
    {
     "name": "stdout",
     "output_type": "stream",
     "text": [
      "Correctness in test with cutoff 0: 73.29142857142857\n",
      "Correctness in test with best cutoff: 73.58228571428572\n"
     ]
    }
   ],
   "source": [
    "print('Correctness in test with cutoff 0: {}'.format(correctness(y_test, predict(y_hat_test, 0))))\n",
    "print('Correctness in test with best cutoff: {}'.format(correctness(y_test, predict(y_hat_test, best_cutoff))))"
   ]
  },
  {
   "cell_type": "code",
   "execution_count": null,
   "metadata": {
    "collapsed": true
   },
   "outputs": [],
   "source": []
  }
 ],
 "metadata": {
  "kernelspec": {
   "display_name": "Python 3",
   "language": "python",
   "name": "python3"
  },
  "language_info": {
   "codemirror_mode": {
    "name": "ipython",
    "version": 3
   },
   "file_extension": ".py",
   "mimetype": "text/x-python",
   "name": "python",
   "nbconvert_exporter": "python",
   "pygments_lexer": "ipython3",
   "version": "3.6.2"
  }
 },
 "nbformat": 4,
 "nbformat_minor": 2
}
