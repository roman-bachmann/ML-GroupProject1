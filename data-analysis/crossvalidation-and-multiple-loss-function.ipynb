{
 "cells": [
  {
   "cell_type": "code",
   "execution_count": 1,
   "metadata": {
    "collapsed": true
   },
   "outputs": [],
   "source": [
    "import os\n",
    "import pandas as pd\n",
    "import numpy as np\n",
    "import copy\n",
    "\n",
    "from mlcomp.config import DATA_PATH\n",
    "from mlcomp.data import load_csv_data\n",
    "from mlcomp.helpers import split_data\n",
    "from mlcomp.costs import compute_correctness, compute_mae, compute_mse\n",
    "from mlcomp.cross_validation import ridge_lambda_cv, get_best_parameter\n",
    "from mlcomp.performance import predict_values, predict\n",
    "from mlcomp.models import ridge_regression\n",
    "from mlcomp.feature_eng import build_simple_poly, replace_nan_by_median\n",
    "\n",
    "import matplotlib.pyplot as plt\n",
    "%matplotlib inline  \n",
    "\n",
    "TRAIN_PATH = os.path.join(DATA_PATH, 'train.csv')\n",
    "RATIO_SPLIT = 0.3\n",
    "SEED_SPLIT = 872\n",
    "LAMBDA_SPACE = np.logspace(-5, 0, 30)"
   ]
  },
  {
   "cell_type": "markdown",
   "metadata": {},
   "source": [
    "## Reading data"
   ]
  },
  {
   "cell_type": "code",
   "execution_count": 2,
   "metadata": {
    "collapsed": true
   },
   "outputs": [],
   "source": [
    "y, X, ids = load_csv_data(TRAIN_PATH)\n",
    "X_train, X_test, y_train, y_test = split_data(X, y, RATIO_SPLIT, seed=SEED_SPLIT)\n",
    "col_names = list(np.genfromtxt(TRAIN_PATH, delimiter=\",\", dtype=None,  max_rows=1))\n",
    "col_names = list(map(lambda x: x.decode(\"utf-8\"), col_names))"
   ]
  },
  {
   "cell_type": "markdown",
   "metadata": {},
   "source": [
    "## Feature Eng"
   ]
  },
  {
   "cell_type": "code",
   "execution_count": 69,
   "metadata": {
    "collapsed": true
   },
   "outputs": [],
   "source": [
    "def dummyrize(X, col_index, allowed_values):\n",
    "    X_plus = copy.deepcopy(X)\n",
    "    col_to_dummy = X[: , col_index-2]\n",
    "    dummies = np.empty((len(X_plus), len(allowed_values)-1))\n",
    "    \n",
    "    for i, v in enumerate(allowed_values[0:-1]):\n",
    "        dummies[:, i] = (col_to_dummy == v)*1\n",
    "    \n",
    "    return np.delete(np.concatenate((X_plus, dummies), axis=1), [col_index-2], axis=1)"
   ]
  },
  {
   "cell_type": "code",
   "execution_count": null,
   "metadata": {
    "collapsed": true
   },
   "outputs": [],
   "source": [
    "def to_drop():\n",
    "    return"
   ]
  },
  {
   "cell_type": "code",
   "execution_count": null,
   "metadata": {
    "collapsed": true
   },
   "outputs": [],
   "source": [
    "DER_mass_MMC\n",
    "1\tDER_mass_traverse_met_lep\n",
    "2\tDER_mass_vis\n",
    "13\tPRI_tau_pt\n",
    "11\tDER_met_phi_centrality\n",
    "10\tDER_pt_ratio_lep_tau\n",
    "7\tDER_deltar_tau_lep\n",
    "19\tPRI_met"
   ]
  },
  {
   "cell_type": "code",
   "execution_count": 77,
   "metadata": {
    "collapsed": true
   },
   "outputs": [],
   "source": [
    "def apply_feature_eng(X):\n",
    "\n",
    "    X_plus = copy.deepcopy(X)\n",
    "    \n",
    "    \n",
    "    X_plus = replace_nan_by_median(X, -999)\n",
    "    X_plus = (X_plus - X_plus.mean(axis=0)) / X_plus.std(axis=0)\n",
    "   \n",
    "    X_plus = build_simple_poly(X_plus, 2)\n",
    "    \n",
    "#     dummy_cols = {'PRI_jet_num': [1,2,3,4]}\n",
    "#     for c in dummy_cols:\n",
    "#         X_plus = dummyrize(X_plus, col_names.index(c), dummy_cols[c]) # decrese performance \n",
    "    \n",
    "    return X_plus"
   ]
  },
  {
   "cell_type": "code",
   "execution_count": 78,
   "metadata": {},
   "outputs": [],
   "source": [
    "X_feat = apply_feature_eng(X)\n",
    "X_feat_train = apply_feature_eng(X_train)\n",
    "X_feat_test = apply_feature_eng(X_test)"
   ]
  },
  {
   "cell_type": "markdown",
   "metadata": {},
   "source": [
    "## Using `compute_correctness` as loss function to optimize"
   ]
  },
  {
   "cell_type": "code",
   "execution_count": 79,
   "metadata": {},
   "outputs": [
    {
     "name": "stdout",
     "output_type": "stream",
     "text": [
      "Best lambda: 1.4873521072935119e-05\n",
      "Performance in test set: 77.417\n"
     ]
    }
   ],
   "source": [
    "LOSS_FN = compute_correctness\n",
    "LOSS_GREATER_IS_BETTER = True\n",
    "\n",
    "loss_test = ridge_lambda_cv(y_train, X_feat_train, compute_correctness, LAMBDA_SPACE)[1]\n",
    "best_lambda = get_best_parameter(loss_test, LAMBDA_SPACE, LOSS_GREATER_IS_BETTER)\n",
    "\n",
    "best_w = ridge_regression(y, X_feat, best_lambda)\n",
    "y_test_values = predict_values(best_w, X_feat_test)\n",
    "y_hat_test = predict(y_test_values, 0)\n",
    "performance_test = compute_correctness(y_test, y_hat_test)\n",
    "\n",
    "print('Best lambda: {lambda_}\\nPerformance in test set: {pf_test}'\n",
    "      .format(lambda_=best_lambda, pf_test=round(performance_test, 3)))"
   ]
  }
 ],
 "metadata": {
  "kernelspec": {
   "display_name": "Python 3",
   "language": "python",
   "name": "python3"
  },
  "language_info": {
   "codemirror_mode": {
    "name": "ipython",
    "version": 3
   },
   "file_extension": ".py",
   "mimetype": "text/x-python",
   "name": "python",
   "nbconvert_exporter": "python",
   "pygments_lexer": "ipython3",
   "version": "3.6.2"
  }
 },
 "nbformat": 4,
 "nbformat_minor": 2
}
