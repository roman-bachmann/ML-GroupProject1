{
 "cells": [
  {
   "cell_type": "markdown",
   "metadata": {},
   "source": [
    "# Speedup for polynomial base expansion"
   ]
  },
  {
   "cell_type": "code",
   "execution_count": 2,
   "metadata": {
    "collapsed": true
   },
   "outputs": [],
   "source": [
    "import numpy as np"
   ]
  },
  {
   "cell_type": "code",
   "execution_count": 67,
   "metadata": {},
   "outputs": [],
   "source": [
    "from itertools import chain, combinations_with_replacement\n",
    "import numpy as np\n",
    "\n",
    "def poly_base(tx, degree, cols=[]):\n",
    "    if cols:\n",
    "        tx = tx[:, cols]\n",
    "    N = tx.shape[0]\n",
    "    D = tx.shape[1]\n",
    "    \n",
    "    comb = combinations_with_replacement\n",
    "    combinations = chain.from_iterable(comb(range(D), i) for i in range(0, degree + 1))\n",
    "    dimension_count_iter = chain.from_iterable(comb(range(D), i) for i in range(0, degree + 1))\n",
    "    x_poly_D = sum(1 for _ in dimension_count_iter)\n",
    "    \n",
    "    x_poly = np.empty((N, x_poly_D), dtype=tx.dtype)\n",
    "    for i, c in enumerate(combinations):\n",
    "        x_poly[:, i] = tx[:, c].prod(1)\n",
    "\n",
    "    return x_poly"
   ]
  },
  {
   "cell_type": "code",
   "execution_count": 74,
   "metadata": {},
   "outputs": [
    {
     "data": {
      "text/plain": [
       "array([[ 1,  1,  2,  3,  1,  2,  3,  4,  6,  9],\n",
       "       [ 1,  4,  5,  6, 16, 20, 24, 25, 30, 36],\n",
       "       [ 1,  7,  8,  9, 49, 56, 63, 64, 72, 81]])"
      ]
     },
     "execution_count": 74,
     "metadata": {},
     "output_type": "execute_result"
    }
   ],
   "source": [
    "# Test data\n",
    "tx = np.array([[1, 2, 3], [4, 5, 6], [7, 8, 9]])\n",
    "degree = 2\n",
    "cols = [0,1,2]\n",
    "\n",
    "poly_base(tx, degree, cols=[])"
   ]
  },
  {
   "cell_type": "code",
   "execution_count": null,
   "metadata": {
    "collapsed": true
   },
   "outputs": [],
   "source": []
  }
 ],
 "metadata": {
  "kernelspec": {
   "display_name": "ml",
   "language": "python",
   "name": "ml"
  },
  "language_info": {
   "codemirror_mode": {
    "name": "ipython",
    "version": 3
   },
   "file_extension": ".py",
   "mimetype": "text/x-python",
   "name": "python",
   "nbconvert_exporter": "python",
   "pygments_lexer": "ipython3",
   "version": "3.5.4"
  }
 },
 "nbformat": 4,
 "nbformat_minor": 2
}
