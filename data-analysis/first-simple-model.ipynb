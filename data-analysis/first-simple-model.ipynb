{
 "cells": [
  {
   "cell_type": "markdown",
   "metadata": {},
   "source": [
    "# Machine Learning - Project 1"
   ]
  },
  {
   "cell_type": "code",
   "execution_count": 178,
   "metadata": {},
   "outputs": [
    {
     "name": "stdout",
     "output_type": "stream",
     "text": [
      "The autoreload extension is already loaded. To reload it, use:\n",
      "  %reload_ext autoreload\n"
     ]
    }
   ],
   "source": [
    "# Setup and imports\n",
    "%matplotlib inline\n",
    "import numpy as np\n",
    "import matplotlib.pyplot as plt\n",
    "\n",
    "%load_ext autoreload\n",
    "%autoreload 2\n",
    "\n",
    "import proj1_helpers"
   ]
  },
  {
   "cell_type": "markdown",
   "metadata": {},
   "source": [
    "## Implementations of ML Methods"
   ]
  },
  {
   "cell_type": "markdown",
   "metadata": {},
   "source": [
    "### Test data:\n",
    "\n",
    "Testing data for helper functions"
   ]
  },
  {
   "cell_type": "code",
   "execution_count": 179,
   "metadata": {},
   "outputs": [],
   "source": [
    "y = np.array([1, 2, 3, 4])\n",
    "tx = np.array([[1, 2, 3], \n",
    "               [4, 5, 6], \n",
    "               [7, 8, 9], \n",
    "               [10, 11, 12]])\n",
    "w = np.array([0, 0, 0])"
   ]
  },
  {
   "cell_type": "markdown",
   "metadata": {},
   "source": [
    "### Helper functions:"
   ]
  },
  {
   "cell_type": "code",
   "execution_count": 180,
   "metadata": {},
   "outputs": [],
   "source": [
    "def compute_loss_mse(y, tx, w):\n",
    "    \"\"\"Calculate the MSE loss.\"\"\"\n",
    "    N = len(y)\n",
    "    e = y - np.dot(tx, w)\n",
    "    return np.dot(e,e) / (2 * N)"
   ]
  },
  {
   "cell_type": "code",
   "execution_count": 181,
   "metadata": {},
   "outputs": [],
   "source": [
    "def compute_loss_mae(y, tx, w):\n",
    "    \"\"\"Calculate the MAE loss.\"\"\"\n",
    "    N = len(y)\n",
    "    e = y - np.dot(tx, w)\n",
    "    return np.sum(np.absolute(e)) / N"
   ]
  },
  {
   "cell_type": "code",
   "execution_count": 182,
   "metadata": {},
   "outputs": [],
   "source": [
    "def compute_rmse(y, tx, w):\n",
    "    \"\"\"Computes the Root Mean Square Error\"\"\"\n",
    "    mse = compute_loss_mse(y, tx, w)\n",
    "    return np.sqrt(2 * mse)"
   ]
  },
  {
   "cell_type": "code",
   "execution_count": 183,
   "metadata": {},
   "outputs": [],
   "source": [
    "\"\"\"Filippas\"\"\"\n",
    "def rmse_calc(mse):\n",
    "    rmse = np.sqrt(mse*2)\n",
    "    return rmse"
   ]
  },
  {
   "cell_type": "code",
   "execution_count": 184,
   "metadata": {},
   "outputs": [],
   "source": [
    "def compute_gradient_mse(y, tx, w):\n",
    "    \"\"\"Compute the MSE gradient.\"\"\"\n",
    "    N = len(y)\n",
    "    e = y - np.dot(tx, w)\n",
    "    return (-1/N) * np.dot(np.transpose(tx), e)"
   ]
  },
  {
   "cell_type": "code",
   "execution_count": 185,
   "metadata": {},
   "outputs": [],
   "source": [
    "def compute_stochastic_subgradient_mae(y, tx, w):\n",
    "    \"\"\"Compute a stochastic subgradient from just few examples n and their corresponding y_n labels.\"\"\"\n",
    "    N = len(y)\n",
    "    e = y - np.dot(tx, w)\n",
    "    abs_e_subgrad = [np.sign(en) for en in e] # Sign chosen for subgradient of absolute value function\n",
    "    return (-1/N) * np.dot(np.transpose(tx), abs_e_subgrad)"
   ]
  },
  {
   "cell_type": "code",
   "execution_count": 186,
   "metadata": {},
   "outputs": [],
   "source": [
    "def batch_iter(y, tx, batch_size, num_batches=1, shuffle=True):\n",
    "    \"\"\"\n",
    "    Generate a minibatch iterator for a dataset.\n",
    "    Takes as input two iterables (here the output desired values 'y' and the input data 'tx')\n",
    "    Outputs an iterator which gives mini-batches of `batch_size` matching elements from `y` and `tx`.\n",
    "    Data can be randomly shuffled to avoid ordering in the original data messing with the randomness of the minibatches.\n",
    "    Example of use :\n",
    "    for minibatch_y, minibatch_tx in batch_iter(y, tx, 32):\n",
    "        <DO-SOMETHING>\n",
    "    \"\"\"\n",
    "    data_size = len(y)\n",
    "\n",
    "    if shuffle:\n",
    "        shuffle_indices = np.random.permutation(np.arange(data_size))\n",
    "        shuffled_y = y[shuffle_indices]\n",
    "        shuffled_tx = tx[shuffle_indices]\n",
    "    else:\n",
    "        shuffled_y = y\n",
    "        shuffled_tx = tx\n",
    "    for batch_num in range(num_batches):\n",
    "        start_index = batch_num * batch_size\n",
    "        end_index = min((batch_num + 1) * batch_size, data_size)\n",
    "        if start_index != end_index:\n",
    "            yield shuffled_y[start_index:end_index], shuffled_tx[start_index:end_index]"
   ]
  },
  {
   "cell_type": "code",
   "execution_count": 187,
   "metadata": {},
   "outputs": [],
   "source": [
    "def split_data(x, y, ratio, seed=1):\n",
    "    \"\"\"\n",
    "    split the dataset based on the split ratio. If ratio is 0.8 \n",
    "    you will have 80% of your data set dedicated to training \n",
    "    and the rest dedicated to testing\n",
    "    \"\"\"\n",
    "    np.random.seed(seed) # set seed\n",
    "    permuted_idxs = np.random.permutation(x.shape[0])\n",
    "    train_size = int(ratio * x.shape[0])\n",
    "    train_idxs, test_idxs = permuted_idxs[:train_size], permuted_idxs[train_size:]\n",
    "    \n",
    "    return x[train_idxs], x[test_idxs], y[train_idxs], y[test_idxs]"
   ]
  },
  {
   "cell_type": "markdown",
   "metadata": {},
   "source": [
    "### Functions to implement for project 1 submission:"
   ]
  },
  {
   "cell_type": "code",
   "execution_count": 188,
   "metadata": {},
   "outputs": [],
   "source": [
    "\"\"\"Linear regression using gradient descent\"\"\"\n",
    "def least_squares_GD(y, tx, initial_w, max_iters, gamma):\n",
    "    \"\"\"Gradient descent algorithm using MSE.\"\"\"\n",
    "    w = initial_w\n",
    "    for n_iter in range(max_iters):\n",
    "        grad = compute_gradient_mse(y, tx, w)\n",
    "        loss = compute_loss_mse(y, tx, w)\n",
    "        w = w - gamma * grad\n",
    "        \n",
    "    rmse = compute_rmse(y, tx, w)\n",
    "\n",
    "    return w, rmse"
   ]
  },
  {
   "cell_type": "code",
   "execution_count": 189,
   "metadata": {},
   "outputs": [],
   "source": [
    "\"\"\"Linear regression using stochastic gradient descent\"\"\"\n",
    "def stochastic_subgradient_descent_mae(y, tx, initial_w, max_iters, gamma):\n",
    "    \"\"\"Stochastic subgradient descent algorithm using MAE.\"\"\"\n",
    "    batch_size = 1\n",
    "    w = initial_w\n",
    "    for n_iter in range(max_iters):\n",
    "        for minibatch_y, minibatch_tx in batch_iter(y, tx, batch_size):\n",
    "            g = compute_stochastic_subgradient_mae(minibatch_y, minibatch_tx, w)\n",
    "            w = w - gamma * g\n",
    "        loss = compute_loss_mae(y, tx, w)\n",
    "        print(\"Stochastic Subgradient Descent({bi}/{ti}): loss={l}, w0={w0}, w1={w1}\".format(\n",
    "              bi=n_iter, ti=max_iters - 1, l=loss, w0=w[0], w1=w[1]))\n",
    "\n",
    "    return w, loss"
   ]
  },
  {
   "cell_type": "code",
   "execution_count": 190,
   "metadata": {},
   "outputs": [],
   "source": [
    "def least_squares(y, tx):\n",
    "    \"\"\"Calculates the explicit least squares solution.\n",
    "    Returns rmse, optimal weights\"\"\"\n",
    "    N = tx.shape[0]\n",
    "    D = tx.shape[1]\n",
    "    rank_tx = np.linalg.matrix_rank(tx)\n",
    "    \n",
    "    # Check if tx is invertible. If so, find explicit solution\n",
    "    # using real inverses.\n",
    "    # If not, find explicit solution using pseudoinverses.\n",
    "    if (rank_tx == max(tx.shape[0], tx.shape[1])):\n",
    "        gramian_inv = np.linalg.inv(np.dot(tx.T, tx))\n",
    "        w = np.dot(gramian_inv, np.dot(tx.T, y))\n",
    "    else:\n",
    "        U, s, V_T = np.linalg.svd(tx)\n",
    "        S_inv_T = np.zeros((D, N))\n",
    "        S_inv_T[:len(s), :len(s)] = np.diag(1/s)\n",
    "        w = np.dot(V_T.T, np.dot(S_inv_T, np.dot(U.T, y)))\n",
    "    \n",
    "    rmse = compute_rmse(y, tx, w)\n",
    "    \n",
    "    return w, rmse"
   ]
  },
  {
   "cell_type": "code",
   "execution_count": 191,
   "metadata": {},
   "outputs": [],
   "source": [
    "\"\"\"Filippas\"\"\"\n",
    "def least_squares_2(y, tx):\n",
    "    \"\"\"calculate the least squares solution.\"\"\"\n",
    "    N = tx.shape[0]\n",
    "    w = np.linalg.solve(np.dot(tx.T, tx), np.dot(tx.T, y))\n",
    "    \n",
    "    e = y-np.dot(tx, w)\n",
    "    mse = (e ** 2).mean()\n",
    "    return w, mse"
   ]
  },
  {
   "cell_type": "code",
   "execution_count": 192,
   "metadata": {},
   "outputs": [],
   "source": [
    "def ridge_regression(y, tx, lambda_):\n",
    "    \"\"\"Ridge regression using normal equations\"\"\"\n",
    "    \n",
    "    #if (lambda_ == 0):\n",
    "    #    return least_squares(y, tx)\n",
    "    \n",
    "    N = tx.shape[0]\n",
    "    D = tx.shape[1]\n",
    "    \n",
    "    inv = np.linalg.inv(np.dot(tx.T, tx) + 2 * N * lambda_ * np.identity(D))\n",
    "    w = np.dot(inv, np.dot(tx.T, y))\n",
    "    \n",
    "    rmse = compute_rmse(y, tx, w)\n",
    "\n",
    "    return w, rmse"
   ]
  },
  {
   "cell_type": "code",
   "execution_count": 212,
   "metadata": {},
   "outputs": [],
   "source": [
    " def ridge_regression2(y, tx, lambda_):\n",
    "    \"\"\"implement ridge regression.\"\"\"\n",
    "    N = tx.shape[0]\n",
    "    D = tx.shape[1]\n",
    "    inver = np.linalg.inv(np.dot(tx.T, tx) + (2 * N * lambda_ * np.identity(D)))\n",
    "    w = np.dot(inver, np.dot(tx.T,y))\n",
    "    mse = compute_loss_mse(y, tx, w)\n",
    "    rmse = rmse_calc(mse)\n",
    "    # ***************************************************\n",
    "    # INSERT YOUR CODE HERE\n",
    "    # ridge regression: TODO\n",
    "    # ***************************************************\n",
    "    return w, rmse"
   ]
  },
  {
   "cell_type": "code",
   "execution_count": 213,
   "metadata": {},
   "outputs": [],
   "source": [
    "\"\"\"Logistic regression using gradient descent or SGD\"\"\"\n",
    "def logistic_regression(y, tx, initial_w, max_iters, gamma):\n",
    "    raise NotImplementedError"
   ]
  },
  {
   "cell_type": "code",
   "execution_count": 214,
   "metadata": {},
   "outputs": [],
   "source": [
    "\"\"\"Regularized logistic regression using gradient descent or SGD\"\"\"\n",
    "def reg_logistic_regression(y, tx, lambda_, initial_w, max_iters, gamma):\n",
    "    raise NotImplementedError"
   ]
  },
  {
   "cell_type": "markdown",
   "metadata": {},
   "source": [
    "## Higgs Data Analysis"
   ]
  },
  {
   "cell_type": "markdown",
   "metadata": {},
   "source": [
    "### Experimental functions\n",
    "\n",
    "All of these functions can be used experimentally to, in one way or the other, improve the predictions."
   ]
  },
  {
   "cell_type": "code",
   "execution_count": 215,
   "metadata": {},
   "outputs": [],
   "source": [
    "def correctness(yb, y_pred):\n",
    "    \"\"\"Takes inputs known y and predicted y and prints the ratio of correct predictions vs incorrect ones.\"\"\"\n",
    "    correct = 0\n",
    "    for i in range(len(y_pred)):\n",
    "        if (y_pred[i] == yb[i]):\n",
    "            correct += 1\n",
    "        \n",
    "    incorrect = len(y_pred) - correct\n",
    "    perc = correct / len(y_pred) * 100\n",
    "    print(\"Total correct:\", correct, \"\\nTotal incorrect:\", incorrect, \"\\nCorrect percentage:\", perc, \"%\")"
   ]
  },
  {
   "cell_type": "code",
   "execution_count": 216,
   "metadata": {},
   "outputs": [],
   "source": [
    "def replace_nan_by_mean(tx, nan_value):\n",
    "    \"\"\"Replaces values with a specified nan_value by the column mean.\"\"\"\n",
    "    tx[tx == nan_value] = np.nan\n",
    "    col_mean = np.nanmean(tx, axis=0)\n",
    "    return np.where(np.isnan(tx), col_mean, tx)"
   ]
  },
  {
   "cell_type": "code",
   "execution_count": 217,
   "metadata": {},
   "outputs": [],
   "source": [
    "def replace_nan_by_median(tx, nan_value):\n",
    "    \"\"\"Replaces values with a specified nan_value by the column median.\"\"\"\n",
    "    tx[tx == nan_value] = np.nan\n",
    "    col_median = np.nanmedian(tx, axis=0)\n",
    "    return np.where(np.isnan(tx), col_median, tx)"
   ]
  },
  {
   "cell_type": "code",
   "execution_count": 218,
   "metadata": {},
   "outputs": [],
   "source": [
    "def drop_nan_rows(tx, nan_value):\n",
    "    \"\"\"Drop all rows that contain a nan equaling the specified nan_value.\"\"\"\n",
    "    tx[tx == nan_value] = np.nan\n",
    "    return tx[~np.isnan(tx).any(axis=1)]"
   ]
  },
  {
   "cell_type": "code",
   "execution_count": 219,
   "metadata": {},
   "outputs": [],
   "source": [
    "def build_simple_poly(tx, degree):\n",
    "    \"\"\"\n",
    "    Builds simple polynomial basis function for input data matrix tx, for j=0 up to j=degree,\n",
    "    where the result will be a matrix of form [1, tx, tx^2, ..., tx^j].\n",
    "    tx^j denotes that for each x_i,k in tx, the result will be (x_i,k)^j\n",
    "    \"\"\"\n",
    "    poly = np.ones((tx.shape[0], 1))\n",
    "\n",
    "    for j in range(1, degree+1):\n",
    "        poly = np.column_stack((poly, np.power(tx, j)))\n",
    "\n",
    "    return poly"
   ]
  },
  {
   "cell_type": "code",
   "execution_count": 220,
   "metadata": {},
   "outputs": [],
   "source": [
    "import itertools\n",
    "\n",
    "# TODO: Optimize. Very slow!\n",
    "def build_mult_comb(tx, deg, cols=[]):\n",
    "    \"\"\"\n",
    "    Returns all multiplicative combinations of the specified columns for degree deg.\n",
    "    For len(col) = D', there are (D' choose deg) combinations of columns that get\n",
    "    returned as a matrix.\n",
    "    If cols is not given, it returns the combinations of all columns of tx.\n",
    "    \"\"\"\n",
    "    N = tx.shape[0]\n",
    "    if (cols == []):\n",
    "        comb_iter = itertools.combinations_with_replacement(range(tx.shape[1]), deg)\n",
    "    else:\n",
    "        comb_iter = itertools.combinations_with_replacement(cols, deg)\n",
    "    mult = []\n",
    "    for comb in comb_iter:\n",
    "        mult_col = np.ones(N)\n",
    "        for idx in comb:\n",
    "            tx_col = tx[:,idx]\n",
    "            mult_col = np.multiply(mult_col, tx_col)\n",
    "        mult.append(mult_col.tolist())\n",
    "    return np.array(mult).T\n",
    "\n",
    "def build_advanced_poly(tx, degree, cols=[]):\n",
    "    \"\"\"\n",
    "    Builds full polynomial basis function for input data matrix tx, for j=0 up to j=degree,\n",
    "    where the result will be a matrix of form:\n",
    "    [1, tx, comb_mult(tx, 2), ..., comb_mult(tx, j)]\n",
    "    comb_mult(tx, 2) denotes all multiplicative combinations of the selected columns of tx.\n",
    "    If cols is not given, it returns the combinations of all columns of tx.\n",
    "    \"\"\"\n",
    "    poly = np.ones((tx.shape[0], 1))\n",
    "\n",
    "    for j in range(1, degree+1):\n",
    "        mult = build_mult_comb(tx, j, cols)\n",
    "        poly = np.column_stack((poly, mult))\n",
    "\n",
    "    return poly"
   ]
  },
  {
   "cell_type": "markdown",
   "metadata": {},
   "source": [
    "# Testing on data"
   ]
  },
  {
   "cell_type": "markdown",
   "metadata": {},
   "source": [
    "Import training data:"
   ]
  },
  {
   "cell_type": "code",
   "execution_count": 221,
   "metadata": {},
   "outputs": [],
   "source": [
    "from proj1_helpers import *\n",
    "\n",
    "data_path = \"../data/train.csv\"\n",
    "yb, input_data, ids = load_csv_data(data_path, sub_sample=False)"
   ]
  },
  {
   "cell_type": "markdown",
   "metadata": {},
   "source": [
    "Transform the data to more useable data, by replacing NaN's by the column mean and creating a polynomial base expansion.\n",
    "\n",
    "By previous data analysis, important_cols are selected to be the few \"most influencial\" features. We use only those few weights in the polynomial base expansion for computational efficiency.\n",
    "\n",
    "| Index | Feature                   |\n",
    "|-------|---------------------------|\n",
    "|  0    | DER_mass_MMC              |\n",
    "| 1     | DER_mass_traverse_met_lep |\n",
    "| 2     | DER_mass_vis              |\n",
    "| 13    | PRI_tau_pt                |\n",
    "| 11    | DER_met_phi_centrality    |\n",
    "| 10    | DER_pt_ratio_lep_tau      |\n",
    "| 7     | DER_deltar_tau_lep        |\n",
    "| 19    | PRI_met                   |"
   ]
  },
  {
   "cell_type": "code",
   "execution_count": 222,
   "metadata": {},
   "outputs": [],
   "source": [
    "input_data = replace_nan_by_median(input_data, -999)\n",
    "\n",
    "important_cols = [0, 1, 2, 7, 10, 11, 13, 19]\n",
    "degree = 2 # With current implementation, higher than 5 is comp. infeasable, but it gives the best results!\n",
    "\n",
    "x_poly = build_advanced_poly(input_data, degree, important_cols)\n",
    "\n",
    "x_train, x_test, y_train, y_test = split_data(x_poly, yb, ratio=0.9, seed=123456789)"
   ]
  },
  {
   "cell_type": "code",
   "execution_count": 223,
   "metadata": {},
   "outputs": [
    {
     "name": "stdout",
     "output_type": "stream",
     "text": [
      "lambda=0.000010000, Training RMSE=0.807, Testing RMSE=0.804\n",
      "lambda=0.000022758, Training RMSE=0.807, Testing RMSE=0.804\n",
      "lambda=0.000051795, Training RMSE=0.807, Testing RMSE=0.804\n",
      "lambda=0.000117877, Training RMSE=0.807, Testing RMSE=0.805\n",
      "lambda=0.000268270, Training RMSE=0.807, Testing RMSE=0.805\n",
      "lambda=0.000610540, Training RMSE=0.808, Testing RMSE=0.807\n",
      "lambda=0.001389495, Training RMSE=0.810, Testing RMSE=0.809\n",
      "lambda=0.003162278, Training RMSE=0.812, Testing RMSE=0.811\n",
      "lambda=0.007196857, Training RMSE=0.815, Testing RMSE=0.815\n",
      "lambda=0.016378937, Training RMSE=0.819, Testing RMSE=0.819\n",
      "lambda=0.037275937, Training RMSE=0.823, Testing RMSE=0.824\n",
      "lambda=0.084834290, Training RMSE=0.827, Testing RMSE=0.828\n",
      "lambda=0.193069773, Training RMSE=0.829, Testing RMSE=0.830\n",
      "lambda=0.439397056, Training RMSE=0.831, Testing RMSE=0.832\n",
      "lambda=1.000000000, Training RMSE=0.832, Testing RMSE=0.833\n"
     ]
    },
    {
     "data": {
      "image/png": "[encoded data removed]",
      "text/plain": [
       "<matplotlib.figure.Figure at 0x10e250828>"
      ]
     },
     "metadata": {},
     "output_type": "display_data"
    }
   ],
   "source": [
    "from plots import *\n",
    "\n",
    "# Experiment to find best lambda\n",
    "def ridge_regression_demo():\n",
    "    \"\"\"ridge regression demo.\"\"\"\n",
    "    # define parameter\n",
    "    lambdas = np.logspace(-5, 0, 15)\n",
    "\n",
    "    rmse_tr = []\n",
    "    rmse_te = []\n",
    "    for ind, lambda_ in enumerate(lambdas):\n",
    "        weights, rmse = ridge_regression(y_train, x_train, lambda_)\n",
    "        rmse_tr.append(compute_rmse(y_train, x_train, weights))\n",
    "        rmse_te.append(compute_rmse(y_test, x_test, weights))\n",
    "        \n",
    "        print(\"lambda={l:.9f}, Training RMSE={tr:.3f}, Testing RMSE={te:.3f}\".format(\n",
    "               l=lambda_, tr=rmse_tr[ind], te=rmse_te[ind]))\n",
    "        \n",
    "    # Plot the obtained results\n",
    "    plot_train_test(rmse_tr, rmse_te, lambdas, 2)\n",
    "    \n",
    "ridge_regression_demo()"
   ]
  },
  {
   "cell_type": "code",
   "execution_count": 224,
   "metadata": {},
   "outputs": [],
   "source": [
    "\"\"\"Help function\"\"\"\n",
    "def build_k_indices(y, k_fold, seed):\n",
    "    \"\"\"build k indices for k-fold.\"\"\"\n",
    "    num_row = y.shape[0]\n",
    "    interval = int(num_row / k_fold)\n",
    "    np.random.seed(seed)\n",
    "    indices = np.random.permutation(num_row)\n",
    "    k_indices = [indices[k * interval: (k + 1) * interval]\n",
    "                 for k in range(k_fold)]\n",
    "    return np.array(k_indices)"
   ]
  },
  {
   "cell_type": "code",
   "execution_count": 225,
   "metadata": {},
   "outputs": [],
   "source": [
    "\"\"\"Help function\"\"\"\n",
    "def split_cross_data(y, x, k_indices, k):\n",
    "    k_test = k-1\n",
    "    test_ind = k_indices[k_test]\n",
    "    tr_ind = np.delete(k_indices, k_test, axis=0)\n",
    "    tr_ind = np.array(tr_ind).flatten()\n",
    "    x_te = x[test_ind]\n",
    "    y_te = y[test_ind]\n",
    "    x_tr = x[tr_ind]\n",
    "    y_tr = y[tr_ind]\n",
    "    return x_tr, y_tr, x_te, y_te"
   ]
  },
  {
   "cell_type": "code",
   "execution_count": 226,
   "metadata": {},
   "outputs": [],
   "source": [
    "def build_poly(x, degree):\n",
    "    poly_base = np.ones((x.shape[0], 1))\n",
    "    for j in range(1, degree+1):\n",
    "        poly_base = np.column_stack((poly_base, np.power(x, j)))\n",
    "    poly_base = np.array(poly_base)\n",
    "    return poly_base"
   ]
  },
  {
   "cell_type": "code",
   "execution_count": 227,
   "metadata": {},
   "outputs": [],
   "source": [
    "\"\"\"Help function\"\"\"\n",
    "import matplotlib.pyplot as plt\n",
    "\n",
    "def cross_validation_visualization(lambds, mse_tr, mse_te):\n",
    "    \"\"\"visualization the curves of mse_tr and mse_te.\"\"\"\n",
    "    plt.semilogx(lambds, mse_tr, marker=\".\", color='b', label='train error')\n",
    "    plt.semilogx(lambds, mse_te, marker=\".\", color='r', label='test error')\n",
    "    plt.xlabel(\"lambda\")\n",
    "    plt.ylabel(\"rmse\")\n",
    "    plt.title(\"cross validation\")\n",
    "    plt.legend(loc=2)\n",
    "    plt.grid(True)\n",
    "    plt.savefig(\"cross_validation\")"
   ]
  },
  {
   "cell_type": "code",
   "execution_count": 232,
   "metadata": {},
   "outputs": [],
   "source": [
    "def cross_validation(y, x, k, lambda_, k_indices, degree):\n",
    "    \"\"\"return the loss of ridge regression.\"\"\"\n",
    "    loss_tr = []\n",
    "    loss_te = []\n",
    "    important_cols = [0, 1, 2, 7, 10, 11, 13, 19]\n",
    "    degree = 2 # With current implementation, higher than 5 is comp. infeasable, but it gives the best results!\n",
    "    for k in range(k):\n",
    "        x_tr, y_tr, x_te, y_te = split_cross_data(y,x,k_indices,k)\n",
    "        # ***************************************************\n",
    "        # INSERT YOUR CODE HERE\n",
    "        # get k'th subgroup in test, others in train: TODO\n",
    "        # ***************************************************\n",
    "        poly_tr = build_advanced_poly(x_tr, degree, important_cols)\n",
    "        poly_te = build_advanced_poly(x_te, degree, important_cols)\n",
    "        # ***************************************************\n",
    "        # INSERT YOUR CODE HERE\n",
    "        # form data with polynomial degree: TODO\n",
    "        # ***************************************************\n",
    "        w, tr_rmse = ridge_regression(y_tr, poly_tr, lambda_)\n",
    "        \n",
    "        # ***************************************************\n",
    "        # INSERT YOUR CODE HERE\n",
    "        # ridge regression: TODO\n",
    "        # ***************************************************\n",
    "        te_rmse = compute_rmse(y_te, poly_te, w)\n",
    "        \n",
    "        loss_tr.append(tr_rmse)\n",
    "        loss_te.append(te_rmse)\n",
    "        \n",
    "    avg_tr = np.array(loss_tr).mean()\n",
    "    avg_te = np.array(loss_te).mean()\n",
    "    \n",
    "        # ***************************************************\n",
    "        # INSERT YOUR CODE HERE\n",
    "        # calculate the loss for train and test data: TODO\n",
    "        # ***************************************************\n",
    "        \n",
    "    return avg_tr, avg_te"
   ]
  },
  {
   "cell_type": "code",
   "execution_count": 233,
   "metadata": {},
   "outputs": [
    {
     "data": {
      "text/plain": [
       "(6.763661906786544e-07, 1.4182529342883738)"
      ]
     },
     "execution_count": 233,
     "metadata": {},
     "output_type": "execute_result"
    }
   ],
   "source": [
    "seed = 1\n",
    "degree = 7\n",
    "k_fold = 4\n",
    "lambdas = np.logspace(-4, 0, 30)\n",
    "lambda_ = -3\n",
    "k_indices = build_k_indices(y, k_fold, seed)\n",
    "cross_validation(yb, x_poly, k_fold, lambda_, k_indices, degree)"
   ]
  },
  {
   "cell_type": "code",
   "execution_count": 234,
   "metadata": {},
   "outputs": [
    {
     "data": {
      "image/png": "[encoded data removed]",
      "text/plain": [
       "<matplotlib.figure.Figure at 0x12aed9668>"
      ]
     },
     "metadata": {},
     "output_type": "display_data"
    }
   ],
   "source": [
    "#from plots import cross_validation_visualization\n",
    "\n",
    "def cross_validation_demo():\n",
    "    seed = 1\n",
    "    degree = 7\n",
    "    k_fold = 4\n",
    "    lambdas = np.logspace(-4, 0, 30)\n",
    "    lambda_ = 0.8\n",
    "    # split data in k fold\n",
    "    k_indices = build_k_indices(y, k_fold, seed)\n",
    "    # define lists to store the loss of training data and test data\n",
    "    \n",
    "    rmse_tr = []\n",
    "    rmse_te = []\n",
    "    \n",
    "    for ind, lambda_ in enumerate(lambdas):\n",
    "        # ***************************************************\n",
    "        # INSERT YOUR CODE HERE\n",
    "        # ridge regression with a given lambda\n",
    "        # ***************************************************\n",
    "        loss_tr, loss_te = cross_validation(yb, input_data, k_fold, lambda_, k_indices, degree)\n",
    "        \n",
    "        rmse_tr.append(loss_tr)\n",
    "        rmse_te.append(loss_te)\n",
    "        \n",
    "    # ***************************************************\n",
    "    # INSERT YOUR CODE HERE\n",
    "    # cross validation: TODO\n",
    "    # ***************************************************    \n",
    "    cross_validation_visualization(lambdas, rmse_tr, rmse_te)\n",
    "    \n",
    "cross_validation_demo()"
   ]
  },
  {
   "cell_type": "code",
   "execution_count": 231,
   "metadata": {},
   "outputs": [],
   "source": [
    "# Fill in best lambda from above and get weights\n",
    "weights, rmse = ridge_regression(y_train, x_train, lambda_=0.00001)"
   ]
  },
  {
   "cell_type": "code",
   "execution_count": 177,
   "metadata": {
    "scrolled": false
   },
   "outputs": [
    {
     "name": "stdout",
     "output_type": "stream",
     "text": [
      "Total correct: 192475 \n",
      "Total incorrect: 57525 \n",
      "Correct percentage: 76.99000000000001 %\n",
      "-----------------------------\n",
      "Train RMSE: 0.806750582846 , Test RMSE: 0.80393570686\n"
     ]
    }
   ],
   "source": [
    "# Predict labels with found weights and print some useful information about quality of fit\n",
    "y_pred = predict_labels(weights, x_poly)\n",
    "correctness(yb, y_pred)\n",
    "\n",
    "print(\"-----------------------------\")\n",
    "\n",
    "rmse_train = compute_rmse(y_train, x_train, weights)\n",
    "rmse_test = compute_rmse(y_test, x_test, weights)\n",
    "print(\"Train RMSE:\", rmse_train, \", Test RMSE:\", rmse_test)"
   ]
  },
  {
   "cell_type": "markdown",
   "metadata": {},
   "source": [
    "Load and transform test data:"
   ]
  },
  {
   "cell_type": "code",
   "execution_count": 32,
   "metadata": {},
   "outputs": [],
   "source": [
    "test_path = \"../data/test.csv\"\n",
    "yb_test, input_data_test, ids_test = load_csv_data(test_path, sub_sample=False)"
   ]
  },
  {
   "cell_type": "code",
   "execution_count": 33,
   "metadata": {},
   "outputs": [],
   "source": [
    "input_data_test = replace_nan_by_median(input_data_test, -999)\n",
    "x_submit_poly = build_advanced_poly(input_data_test, degree, important_cols)"
   ]
  },
  {
   "cell_type": "code",
   "execution_count": 34,
   "metadata": {},
   "outputs": [],
   "source": [
    "y_test_pred = predict_labels(weights, x_submit_poly)"
   ]
  },
  {
   "cell_type": "code",
   "execution_count": 35,
   "metadata": {},
   "outputs": [],
   "source": [
    "# Save predictions of test data in csv file, ready for the upload on kaggle\n",
    "create_csv_submission(ids_test, y_test_pred, \"test_output.csv\")"
   ]
  },
  {
   "cell_type": "code",
   "execution_count": null,
   "metadata": {
    "collapsed": true
   },
   "outputs": [],
   "source": []
  }
 ],
 "metadata": {
  "kernelspec": {
   "display_name": "Python [default]",
   "language": "python",
   "name": "python3"
  },
  "language_info": {
   "codemirror_mode": {
    "name": "ipython",
    "version": 3
   },
   "file_extension": ".py",
   "mimetype": "text/x-python",
   "name": "python",
   "nbconvert_exporter": "python",
   "pygments_lexer": "ipython3",
   "version": "3.6.1"
  }
 },
 "nbformat": 4,
 "nbformat_minor": 2
}
